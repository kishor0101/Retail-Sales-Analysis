{
  "nbformat": 4,
  "nbformat_minor": 0,
  "metadata": {
    "colab": {
      "provenance": []
    },
    "kernelspec": {
      "name": "python3",
      "display_name": "Python 3"
    },
    "language_info": {
      "name": "python"
    }
  },
  "cells": [
    {
      "cell_type": "markdown",
      "source": [
        "# Month 1: Excel-style + SQL Project\n",
        "\n",
        "Project: Retail Sales Analysis — create dataset, do Excel-like cleaning & pivot-table, export to .xlsx, load into SQLite and run SQL queries. rename functions, change variable names, rewrite comments in your style, add extra tests."
      ],
      "metadata": {
        "id": "K57j-bR8DarQ"
      }
    },
    {
      "cell_type": "code",
      "execution_count": 3,
      "metadata": {
        "colab": {
          "base_uri": "https://localhost:8080/"
        },
        "id": "0l5iDsFnDJwi",
        "outputId": "70ab3b20-5e02-4b9e-c82a-482394211e3d"
      },
      "outputs": [
        {
          "output_type": "stream",
          "name": "stdout",
          "text": [
            "Dataset sample:\n",
            "                                  date    store product  units_sold  \\\n",
            "2024-04-18 12:59:16.004445  2024-04-18  Store_C   Pants           5   \n",
            "2024-04-19 12:59:16.004445  2024-04-19  Store_A   Pants           5   \n",
            "2024-04-20 12:59:16.004445  2024-04-20  Store_C   Shoes           3   \n",
            "2024-04-21 12:59:16.004445  2024-04-21  Store_C   Pants           3   \n",
            "2024-04-22 12:59:16.004445  2024-04-22  Store_A   Shirt           6   \n",
            "\n",
            "                            unit_price  revenue  \n",
            "2024-04-18 12:59:16.004445      747.58  3737.88  \n",
            "2024-04-19 12:59:16.004445      572.37  2861.83  \n",
            "2024-04-20 12:59:16.004445     1552.96  4658.87  \n",
            "2024-04-21 12:59:16.004445      839.82  2519.46  \n",
            "2024-04-22 12:59:16.004445      408.93  2453.57  \n",
            "\n",
            "Pivot (store x month) shape: (3, 17)\n",
            "\n",
            "Product summary:\n",
            "  product  total_units  total_revenue    avg_price\n",
            "0     Hat          359       88996.72   247.946882\n",
            "1  Jacket          458      923890.00  2024.561009\n",
            "2   Pants          380      267247.36   703.558673\n",
            "3   Shirt          426      167928.76   395.725810\n",
            "4   Shoes          360      541449.78  1511.805895\n",
            "\n",
            "Saved Excel to: outputs/retail_sales.xlsx\n",
            "Saved CSV to: outputs/retail_sales.csv\n",
            "\n",
            "Top stores by revenue:\n",
            "     store  total_revenue\n",
            "0  Store_A      701246.50\n",
            "1  Store_C      664627.78\n",
            "2  Store_B      623638.34\n",
            "\n",
            "Top products by units sold:\n",
            "  product  total_units\n",
            "0  Jacket          458\n",
            "1   Shirt          426\n",
            "2   Pants          380\n",
            "3   Shoes          360\n",
            "4     Hat          359\n"
          ]
        }
      ],
      "source": [
        "# =========================\n",
        "# Cell 1 — Retail Sales (Excel-like) + SQLite\n",
        "# Saves: retail_sales.xlsx and retail_sales.csv\n",
        "# =========================\n",
        "\n",
        "import pandas as pd\n",
        "import numpy as np\n",
        "import sqlite3\n",
        "from pathlib import Path\n",
        "\n",
        "# --- 1) Create synthetic retail sales dataset (or replace with your CSV) ---\n",
        "np.random.seed(42)\n",
        "n = 500\n",
        "dates = pd.date_range(end=pd.Timestamp.today(), periods=n).to_series().dt.date\n",
        "store_ids = np.random.choice(['Store_A','Store_B','Store_C'], n)\n",
        "products = np.random.choice(['Shirt','Pants','Shoes','Hat','Jacket'], n)\n",
        "units = np.random.randint(1, 8, size=n)\n",
        "price_map = {'Shirt': 400, 'Pants':700, 'Shoes':1500, 'Hat':250, 'Jacket':2000}\n",
        "prices = [price_map[p] * (1 + np.random.uniform(-0.2, 0.2)) for p in products]\n",
        "revenue = np.round(units * prices, 2)\n",
        "\n",
        "df = pd.DataFrame({\n",
        "    'date': dates,\n",
        "    'store': store_ids,\n",
        "    'product': products,\n",
        "    'units_sold': units,\n",
        "    'unit_price': np.round(prices, 2),\n",
        "    'revenue': revenue\n",
        "})\n",
        "\n",
        "# Quick preview\n",
        "print(\"Dataset sample:\")\n",
        "print(df.head())\n",
        "\n",
        "# --- 2) Excel-style operations (cleaning & pivot) ---\n",
        "# Example cleaning: ensure no nulls\n",
        "df = df.dropna().reset_index(drop=True)\n",
        "\n",
        "# Add month/year columns for aggregation\n",
        "df['month'] = pd.to_datetime(df['date']).dt.to_period('M').astype(str)\n",
        "df['year'] = pd.to_datetime(df['date']).dt.year\n",
        "\n",
        "# Pivot table: total revenue by store x month\n",
        "pivot_store_month = pd.pivot_table(df, values='revenue', index='store', columns='month', aggfunc='sum', fill_value=0)\n",
        "print(\"\\nPivot (store x month) shape:\", pivot_store_month.shape)\n",
        "\n",
        "# Another pivot: product-wise summary\n",
        "prod_summary = df.groupby('product').agg(\n",
        "    total_units=('units_sold','sum'),\n",
        "    total_revenue=('revenue','sum'),\n",
        "    avg_price=('unit_price','mean')\n",
        ").reset_index()\n",
        "print(\"\\nProduct summary:\")\n",
        "print(prod_summary)\n",
        "\n",
        "# --- 3) Export to Excel (multiple sheets) ---\n",
        "out_dir = Path(\"outputs\")\n",
        "out_dir.mkdir(exist_ok=True)\n",
        "excel_path = out_dir/\"retail_sales.xlsx\"\n",
        "with pd.ExcelWriter(excel_path, engine='xlsxwriter') as writer:\n",
        "    df.to_excel(writer, sheet_name='raw_data', index=False)\n",
        "    pivot_store_month.to_excel(writer, sheet_name='pivot_store_month')\n",
        "    prod_summary.to_excel(writer, sheet_name='product_summary', index=False)\n",
        "\n",
        "print(f\"\\nSaved Excel to: {excel_path}\")\n",
        "\n",
        "# --- 4) Save CSV to be used by Power BI / Tableau later ---\n",
        "csv_path = out_dir/\"retail_sales.csv\"\n",
        "df.to_csv(csv_path, index=False)\n",
        "print(f\"Saved CSV to: {csv_path}\")\n",
        "\n",
        "# --- 5) Load dataset into SQLite and run SQL queries (demonstrates SQL capability) ---\n",
        "db_path = out_dir/\"retail_analysis.db\"\n",
        "conn = sqlite3.connect(db_path)\n",
        "df.to_sql('sales', conn, if_exists='replace', index=False)\n",
        "\n",
        "# Example SQL queries:\n",
        "q1 = \"SELECT store, SUM(revenue) as total_revenue FROM sales GROUP BY store ORDER BY total_revenue DESC;\"\n",
        "q2 = \"SELECT product, SUM(units_sold) as total_units FROM sales GROUP BY product ORDER BY total_units DESC;\"\n",
        "\n",
        "top_stores = pd.read_sql_query(q1, conn)\n",
        "top_products = pd.read_sql_query(q2, conn)\n",
        "\n",
        "print(\"\\nTop stores by revenue:\")\n",
        "print(top_stores)\n",
        "\n",
        "print(\"\\nTop products by units sold:\")\n",
        "print(top_products)\n",
        "\n",
        "conn.close()\n",
        "\n",
        "# -----------------------------\n",
        "# 1) Rename functions/vars: df -> sales_df, pivot_store_month -> monthly_by_store\n",
        "# 2) Re-implement pivot using groupby+unstack instead of pd.pivot_table\n",
        "# 3) Add more edge-case tests (zero-unit rows, negative price)\n",
        "# 4) Rewrite comments in your own words and add README describing the pipeline"
      ]
    },
    {
      "cell_type": "code",
      "metadata": {
        "colab": {
          "base_uri": "https://localhost:8080/"
        },
        "id": "dc5809d6",
        "outputId": "67291e9c-1524-4254-c064-0213d87379d3"
      },
      "source": [
        "%pip install xlsxwriter"
      ],
      "execution_count": 2,
      "outputs": [
        {
          "output_type": "stream",
          "name": "stdout",
          "text": [
            "Collecting xlsxwriter\n",
            "  Downloading xlsxwriter-3.2.5-py3-none-any.whl.metadata (2.7 kB)\n",
            "Downloading xlsxwriter-3.2.5-py3-none-any.whl (172 kB)\n",
            "\u001b[?25l   \u001b[90m━━━━━━━━━━━━━━━━━━━━━━━━━━━━━━━━━━━━━━━━\u001b[0m \u001b[32m0.0/172.3 kB\u001b[0m \u001b[31m?\u001b[0m eta \u001b[36m-:--:--\u001b[0m\r\u001b[2K   \u001b[91m━━━━━━━━━━━━━━━━━━━━━━━━━━━━━━━━━━━━━━\u001b[0m\u001b[90m╺\u001b[0m\u001b[90m━\u001b[0m \u001b[32m163.8/172.3 kB\u001b[0m \u001b[31m5.9 MB/s\u001b[0m eta \u001b[36m0:00:01\u001b[0m\r\u001b[2K   \u001b[90m━━━━━━━━━━━━━━━━━━━━━━━━━━━━━━━━━━━━━━━━\u001b[0m \u001b[32m172.3/172.3 kB\u001b[0m \u001b[31m4.2 MB/s\u001b[0m eta \u001b[36m0:00:00\u001b[0m\n",
            "\u001b[?25hInstalling collected packages: xlsxwriter\n",
            "Successfully installed xlsxwriter-3.2.5\n"
          ]
        }
      ]
    }
  ]
}